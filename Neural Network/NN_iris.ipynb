{
 "cells": [
  {
   "cell_type": "code",
   "execution_count": 4,
   "metadata": {},
   "outputs": [],
   "source": [
    "import numpy as np\n",
    "import matplotlib.pyplot as plt\n",
    "from time import *"
   ]
  },
  {
   "cell_type": "code",
   "execution_count": 5,
   "metadata": {},
   "outputs": [],
   "source": [
    "#划分训练集和测试集\n",
    "def split_data(X, Y):\n",
    "    data = np.hstack((X,Y))   #将X,Y矩阵合并\n",
    "    np.random.shuffle(data)   #随机打乱\n",
    "    data_train = data[0:120, :]   #80%作为训练集\n",
    "    data_test = data[120:150, :]    #20%作为测试集\n",
    "    X_train = data_train[:, 0:4].T\n",
    "    Y_train = data_train[:, 4].reshape((1,120))\n",
    "    X_test = data_test[:, 0:4].T\n",
    "    Y_test = data_test[:, 4].reshape((1,30))\n",
    "    return X_train, Y_train, X_test, Y_test"
   ]
  },
  {
   "cell_type": "code",
   "execution_count": 6,
   "metadata": {},
   "outputs": [],
   "source": [
    "#随机初始化参数\n",
    "def initialize(input_num, output_num, hidden_num):\n",
    "    W1 = np.random.randn(hidden_num, input_num) * 0.01   \n",
    "    b1 = np.zeros((hidden_num, 1))  \n",
    "    W2 = np.random.randn(output_num, hidden_num) * 0.01  \n",
    "    b2 = np.zeros((output_num, 1))  \n",
    "    \n",
    "    params = {'W1': W1,\n",
    "              'b1': b1,\n",
    "              'W2': W2,\n",
    "              'b2': b2}\n",
    "    return params"
   ]
  },
  {
   "cell_type": "code",
   "execution_count": 7,
   "metadata": {},
   "outputs": [],
   "source": [
    "#激活函数sigmoid\n",
    "def sigmoid(Z):\n",
    "    A = 1./ (1 + np.exp(-Z))\n",
    "    return A"
   ]
  },
  {
   "cell_type": "code",
   "execution_count": 8,
   "metadata": {},
   "outputs": [],
   "source": [
    "#输出层函数softmax\n",
    "def softmax(Z):\n",
    "    A = np.exp(Z) / np.sum(np.exp(Z), axis=0)\n",
    "    return A"
   ]
  },
  {
   "cell_type": "code",
   "execution_count": 9,
   "metadata": {},
   "outputs": [],
   "source": [
    "#正向传播\n",
    "def forward_propagation(X, params, output_num):\n",
    "    W1 = params['W1']\n",
    "    b1 = params['b1']\n",
    "    W2 = params['W2']\n",
    "    b2 = params['b2']\n",
    "    Z1 = np.dot(W1, X) + b1\n",
    "    A1 = sigmoid(Z1)\n",
    "    Z2 = np.dot(W2, A1) + b2\n",
    "    A2 = softmax(Z2)\n",
    "    \n",
    "    assert (A2.shape == (output_num, X.shape[1]))\n",
    "    \n",
    "    cache = {'Z1': Z1,\n",
    "             'A1': A1,\n",
    "             'Z2': Z2,\n",
    "             'A2': A2}\n",
    "    return A2, cache"
   ]
  },
  {
   "cell_type": "code",
   "execution_count": 10,
   "metadata": {},
   "outputs": [],
   "source": [
    "#损失函数cross entropy\n",
    "def compute_cost(A2, Y_one_hot):\n",
    "    m = Y_one_hot.shape[1]\n",
    "    A2 = np.clip(A2, 1e-12, 1. - 1e-12)\n",
    "    cost = -1./ m * np.sum(Y_one_hot * np.log(A2 + 1e-9))\n",
    "    return cost"
   ]
  },
  {
   "cell_type": "code",
   "execution_count": 11,
   "metadata": {},
   "outputs": [],
   "source": [
    "#损失函数cross entropy（正则）\n",
    "def compute_cost_reg(A2, Y_one_hot, params, lamb):\n",
    "    m = Y_one_hot.shape[1]\n",
    "    A2 = np.clip(A2, 1e-12, 1. - 1e-12)\n",
    "    W1 = params['W1']\n",
    "    W2 = params['W2']\n",
    "    cost = -1./ m * np.sum(Y_one_hot * np.log(A2 + 1e-9)) + lamb / (2*m) * (np.sum(W1*W1) + np.sum(W2*W2))\n",
    "    return cost"
   ]
  },
  {
   "cell_type": "code",
   "execution_count": 12,
   "metadata": {},
   "outputs": [],
   "source": [
    "#反向传播\n",
    "def backward_propagation(X, Y_one_hot, params, cache):\n",
    "    m = X.shape[1]   #样本个数\n",
    "    W1 = params['W1']\n",
    "    W2 = params['W2']\n",
    "    A1 = cache['A1']\n",
    "    A2 = cache['A2']\n",
    "    \n",
    "    dZ2 = A2 - Y_one_hot\n",
    "    dW2 = 1./ m * np.dot(dZ2, A1.T) + lamb / m * W2\n",
    "    db2 = 1./ m * np.sum(dZ2, axis=1, keepdims=True)\n",
    "    dZ1 = np.dot(W2.T, dZ2) * (A1 * (1 - A1))\n",
    "    dW1 = 1./ m * np.dot(dZ1, X.T) + lamb / m * W1\n",
    "    db1 = 1./ m * np.sum(dZ1, axis=1, keepdims=True)\n",
    "    \n",
    "    grads = {'dW1': dW1,\n",
    "             'db1': db1,\n",
    "             'dW2': dW2,\n",
    "             'db2': db2}\n",
    "    return grads"
   ]
  },
  {
   "cell_type": "code",
   "execution_count": 13,
   "metadata": {},
   "outputs": [],
   "source": [
    "#更新参数\n",
    "def update_parameters(params, grads, learning_rate):\n",
    "    W1 = params['W1']\n",
    "    b1 = params['b1']\n",
    "    W2 = params['W2']\n",
    "    b2 = params['b2']\n",
    "    \n",
    "    dW1 = grads['dW1']\n",
    "    db1 = grads['db1']\n",
    "    dW2 = grads['dW2']\n",
    "    db2 = grads['db2']\n",
    "    \n",
    "    W1 = W1 - learning_rate * dW1\n",
    "    b1 = b1 - learning_rate * db1\n",
    "    W2 = W2 - learning_rate * dW2\n",
    "    b2 = b2 - learning_rate * db2\n",
    "    \n",
    "    params = {'W1': W1,\n",
    "              'b1': b1,\n",
    "              'W2': W2,\n",
    "              'b2': b2}\n",
    "    return params"
   ]
  },
  {
   "cell_type": "code",
   "execution_count": 14,
   "metadata": {},
   "outputs": [],
   "source": [
    "#神经网络\n",
    "def neural_network(X, Y, hidden_num, output_num, num_iterations, learning_rate, lamb):\n",
    "    input_num = X.shape[0]\n",
    "    m = X.shape[1]\n",
    "    \n",
    "    params = initialize(input_num, output_num, hidden_num)   #初始化\n",
    "    \n",
    "    Y_one_hot = np.zeros((output_num, m))\n",
    "    for i in range(m):\n",
    "        Y_one_hot[int(Y[0, i]), i] = 1   #将Y转换成one-hot编码形式\n",
    "    \n",
    "    #迭代\n",
    "    cost_list = []\n",
    "    for i in range(num_iterations):\n",
    "        A2, cache = forward_propagation(X, params, output_num)   #正向传播\n",
    "        cost = compute_cost_reg(A2, Y_one_hot, params, lamb)   #计算误差\n",
    "        cost_list = np.append(cost_list, cost)\n",
    "        grads = backward_propagation(X, Y_one_hot, params, cache)   #反向传播\n",
    "        params = update_parameters(params, grads, learning_rate)   #更新参数\n",
    "        \n",
    "        #打印误差\n",
    "        if (i == 0):\n",
    "            print (\"最初误差为：%f\" % cost)\n",
    "        if ((i+1) % 100 == 0):\n",
    "            print (\"经过%i次迭代，误差为：%f\" % ((i+1), cost))\n",
    "    \n",
    "    #画图\n",
    "    iteration = np.arange(0, num_iterations, 1)\n",
    "    plt.figure(figsize=(4,2.5))\n",
    "    plt.plot(iteration, cost_list)\n",
    "    plt.xlabel('number of iterations')\n",
    "    plt.ylabel('error')  \n",
    "    plt.show()\n",
    "               \n",
    "    return params"
   ]
  },
  {
   "cell_type": "code",
   "execution_count": 16,
   "metadata": {
    "scrolled": false
   },
   "outputs": [
    {
     "name": "stdout",
     "output_type": "stream",
     "text": [
      "隐藏层神经元个数：3\n",
      "学习率：0.1\n",
      "迭代次数：1000\n",
      "正则化系数：0.001\n",
      "\n",
      "\n",
      "最初误差为：1.098121\n",
      "经过100次迭代，误差为：1.087993\n",
      "经过200次迭代，误差为：0.969485\n",
      "经过300次迭代，误差为：0.722861\n",
      "经过400次迭代，误差为：0.598095\n",
      "经过500次迭代，误差为：0.533682\n",
      "经过600次迭代，误差为：0.477916\n",
      "经过700次迭代，误差为：0.415882\n",
      "经过800次迭代，误差为：0.353789\n",
      "经过900次迭代，误差为：0.299406\n",
      "经过1000次迭代，误差为：0.256013\n"
     ]
    },
    {
     "data": {
      "image/png": "[encoded data removed]",
      "text/plain": [
       "<Figure size 288x180 with 1 Axes>"
      ]
     },
     "metadata": {
      "needs_background": "light"
     },
     "output_type": "display_data"
    },
    {
     "name": "stdout",
     "output_type": "stream",
     "text": [
      "在测试集上的分类正确率为：100.00%\n",
      "\n",
      "\n",
      "程序运行时间： 0.3399980068206787\n"
     ]
    }
   ],
   "source": [
    "if __name__ == \"__main__\":\n",
    "    #读取数据文件\n",
    "    X = np.loadtxt('iris.txt', delimiter=',', usecols=(0,1,2,3), dtype=float)\n",
    "    Y = np.loadtxt('iris.txt', delimiter=',', usecols=(4), dtype=str)\n",
    "   \n",
    "    #将三个品种分别用0,1,2表示\n",
    "    for i in range(Y.shape[0]):\n",
    "        if Y[i] == 'Iris-setosa':\n",
    "            Y[i] = 0\n",
    "        elif Y[i] == 'Iris-versicolor':\n",
    "            Y[i] = 1\n",
    "        elif Y[i] == 'Iris-virginica':\n",
    "            Y[i] = 2\n",
    "    Y = Y.astype(np.int)\n",
    "    Y = Y[:, np.newaxis]\n",
    "    \n",
    "    X_train, Y_train, X_test, Y_test = split_data(X, Y) #划分数据集\n",
    "    \n",
    "    #一系列参数\n",
    "    input_num = 4\n",
    "    output_num = 3\n",
    "    hidden_num = 3\n",
    "    num_iterations = 1000\n",
    "    learning_rate = 0.1\n",
    "    lamb = 0.001\n",
    "    \n",
    "    print(\"隐藏层神经元个数：%d\" % hidden_num)\n",
    "    print(\"学习率：%s\" % str(learning_rate))\n",
    "    print(\"迭代次数：%d\" % num_iterations)\n",
    "    print(\"正则化系数：%s\" % str(lamb))\n",
    "    print(\"\\n\")\n",
    "    \n",
    "    begin_time = time()\n",
    "    \n",
    "    #训练\n",
    "    params = neural_network(X_train, Y_train, hidden_num, output_num, num_iterations, learning_rate, lamb)\n",
    "    \n",
    "    #测试\n",
    "    test_num = X_test.shape[1]\n",
    "    A2_test, cache_test = forward_propagation(X_test, params, output_num)\n",
    "    predictions = np.argmax(A2_test, axis=0).reshape((1,test_num))\n",
    "    correct = 0\n",
    "    for i in range(test_num):\n",
    "        if (predictions[0, i] == Y_test[0, i]):\n",
    "            correct += 1\n",
    "    precision = correct / test_num\n",
    "    print (\"在测试集上的分类正确率为：%.2f%%\" % (precision * 100))\n",
    "    \n",
    "    print(\"\\n\")\n",
    "    end_time = time()\n",
    "    run_time = end_time - begin_time\n",
    "    print(\"程序运行时间：\", run_time)\n",
    "    "
   ]
  },
  {
   "cell_type": "code",
   "execution_count": null,
   "metadata": {},
   "outputs": [],
   "source": []
  }
 ],
 "metadata": {
  "kernelspec": {
   "display_name": "Python 3",
   "language": "python",
   "name": "python3"
  },
  "language_info": {
   "codemirror_mode": {
    "name": "ipython",
    "version": 3
   },
   "file_extension": ".py",
   "mimetype": "text/x-python",
   "name": "python",
   "nbconvert_exporter": "python",
   "pygments_lexer": "ipython3",
   "version": "3.8.3"
  }
 },
 "nbformat": 4,
 "nbformat_minor": 4
}
