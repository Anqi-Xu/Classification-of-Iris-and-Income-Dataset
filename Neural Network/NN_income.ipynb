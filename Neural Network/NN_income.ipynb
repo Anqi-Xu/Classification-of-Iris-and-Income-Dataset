{
 "cells": [
  {
   "cell_type": "code",
   "execution_count": 3,
   "metadata": {},
   "outputs": [],
   "source": [
    "import numpy as np\n",
    "import pandas as pd\n",
    "import matplotlib.pyplot as plt\n",
    "from time import *"
   ]
  },
  {
   "cell_type": "code",
   "execution_count": 4,
   "metadata": {},
   "outputs": [],
   "source": [
    "#划分训练集和测试集\n",
    "def split_data(X, Y):\n",
    "    Y = Y.reshape((54256, 1))\n",
    "    data = np.hstack((X,Y))\n",
    "    np.random.shuffle(data)\n",
    "    data_train = data[0:40692, :]   #75%作为训练集\n",
    "    data_test = data[40692:54256, :]   #25%作为测试集\n",
    "    X_train = data_train[:, 0:511].T\n",
    "    Y_train = data_train[:, 511].reshape((1,40692))\n",
    "    X_test = data_test[:, 0:511].T\n",
    "    Y_test = data_test[:, 511].reshape((1,13564))\n",
    "    return X_train, Y_train, X_test, Y_test"
   ]
  },
  {
   "cell_type": "code",
   "execution_count": 5,
   "metadata": {},
   "outputs": [],
   "source": [
    "#随机初始化参数\n",
    "def initialize(layers_dims):\n",
    "    L = len(layers_dims)\n",
    "    params = {}\n",
    "    for l in range(1, L):\n",
    "        params['W' + str(l)] = np.random.randn(layers_dims[l], layers_dims[l-1]) * 0.01\n",
    "        params['b' + str(l)] = np.zeros((layers_dims[l], 1))\n",
    "    \n",
    "    assert (params['W' + str(l)].shape == (layers_dims[l], layers_dims[l-1]))\n",
    "    assert (params['b' + str(l)].shape == (layers_dims[l], 1))\n",
    "    \n",
    "    return params"
   ]
  },
  {
   "cell_type": "code",
   "execution_count": 6,
   "metadata": {},
   "outputs": [],
   "source": [
    "#激活函数sigmoid\n",
    "def sigmoid(Z):\n",
    "    A = 1./ (1 + np.exp(-Z))\n",
    "    cache = Z\n",
    "    return A, cache"
   ]
  },
  {
   "cell_type": "code",
   "execution_count": 7,
   "metadata": {},
   "outputs": [],
   "source": [
    "#sigmoid反向传播\n",
    "def sigmoid_backward(dA, cache):\n",
    "    Z = cache\n",
    "    A = 1./ (1 + np.exp(-Z))\n",
    "    dZ = dA * A * (1-A)\n",
    "    assert (dZ.shape == Z.shape)\n",
    "    return dZ"
   ]
  },
  {
   "cell_type": "code",
   "execution_count": 8,
   "metadata": {},
   "outputs": [],
   "source": [
    "#激活函数ReLU\n",
    "def relu(Z):\n",
    "    A = np.maximum(0,Z)\n",
    "    assert (A.shape == Z.shape)\n",
    "    cache = Z \n",
    "    return A, cache"
   ]
  },
  {
   "cell_type": "code",
   "execution_count": 9,
   "metadata": {},
   "outputs": [],
   "source": [
    "#ReLU反向传播\n",
    "def relu_backward(dA, cache):\n",
    "    Z = cache\n",
    "    dZ = np.array(dA, copy=True)\n",
    "    dZ[Z <= 0] = 0   #当Z值小于0时，导数皆为0\n",
    "    assert (dZ.shape == Z.shape)\n",
    "    return dZ"
   ]
  },
  {
   "cell_type": "code",
   "execution_count": 10,
   "metadata": {},
   "outputs": [],
   "source": [
    "#前向传播线性计算部分\n",
    "def linear_forward(A, W, b):\n",
    "    Z = np.dot(W, A) + b\n",
    "    assert (Z.shape == (W.shape[0], A.shape[1]))\n",
    "    cache = (A, W, b)\n",
    "    return Z, cache"
   ]
  },
  {
   "cell_type": "code",
   "execution_count": 11,
   "metadata": {},
   "outputs": [],
   "source": [
    "#前向传播线性激活部分\n",
    "def linear_activation_forward(A_prev, W, b, activation):\n",
    "    if activation == \"sigmoid\":\n",
    "        Z, linear_cache = linear_forward(A_prev, W, b)\n",
    "        A, activation_cache = sigmoid(Z)\n",
    "    elif activation == \"relu\":\n",
    "        Z, linear_cache = linear_forward(A_prev, W, b)\n",
    "        A, activation_cache = relu(Z)\n",
    " \n",
    "    assert (A.shape == (W.shape[0], A_prev.shape[1]))\n",
    "    cache = (linear_cache, activation_cache)\n",
    " \n",
    "    return A, cache"
   ]
  },
  {
   "cell_type": "code",
   "execution_count": 12,
   "metadata": {},
   "outputs": [],
   "source": [
    "#前向传播\n",
    "def L_model_forward(X, params):\n",
    "    caches = []\n",
    "    A = X\n",
    "    L = len(params) // 2   \n",
    "    for l in range(1, L):   \n",
    "        A_prev = A\n",
    "        A, cache = linear_activation_forward(A_prev, params['W' + str(l)], params['b' + str(l)], \"relu\")\n",
    "        caches.append(cache)\n",
    " \n",
    "    AL, cache = linear_activation_forward(A, params['W' + str(L)], params['b' + str(L)], \"sigmoid\") \n",
    "    caches.append(cache)\n",
    " \n",
    "    assert (AL.shape == (1, X.shape[1]))\n",
    " \n",
    "    return AL, caches"
   ]
  },
  {
   "cell_type": "code",
   "execution_count": 13,
   "metadata": {},
   "outputs": [],
   "source": [
    "#损失函数\n",
    "def compute_cost(AL, Y):\n",
    "    m = Y.shape[1]\n",
    "    cost = - np.sum(np.multiply(np.log(AL), Y) + np.multiply(np.log(1 - AL), 1 - Y)) / m\n",
    "    cost = np.squeeze(cost)\n",
    "    assert (cost.shape == ()) \n",
    "    return cost"
   ]
  },
  {
   "cell_type": "code",
   "execution_count": 14,
   "metadata": {},
   "outputs": [],
   "source": [
    "#反向传播线性计算部分\n",
    "def linear_backward(dZ, cache):\n",
    "    A_prev, W, b = cache\n",
    "    m = A_prev.shape[1]\n",
    "    dW = np.dot(dZ, A_prev.T) / m\n",
    "    db = np.sum(dZ, axis=1, keepdims=True) / m\n",
    "    dA_prev = np.dot(W.T, dZ)\n",
    " \n",
    "    assert (dA_prev.shape == A_prev.shape)\n",
    "    assert (dW.shape == W.shape)\n",
    "    assert (db.shape == b.shape)\n",
    " \n",
    "    return dA_prev, dW, db"
   ]
  },
  {
   "cell_type": "code",
   "execution_count": 15,
   "metadata": {},
   "outputs": [],
   "source": [
    "#反向传播线性激活部分\n",
    "def linear_activation_backward(dA, cache, activation):\n",
    "    linear_cache, activation_cache = cache\n",
    "    if activation == \"relu\":\n",
    "        dZ = relu_backward(dA, activation_cache)\n",
    "        dA_prev, dW, db = linear_backward(dZ, linear_cache)\n",
    "    elif activation == \"sigmoid\":\n",
    "        dZ = sigmoid_backward(dA, activation_cache)\n",
    "        dA_prev, dW, db = linear_backward(dZ, linear_cache)\n",
    " \n",
    "    return dA_prev, dW, db"
   ]
  },
  {
   "cell_type": "code",
   "execution_count": 16,
   "metadata": {},
   "outputs": [],
   "source": [
    "#反向传播\n",
    "def L_model_backward(AL, Y, caches):\n",
    "    grads = {}\n",
    "    L = len(caches)\n",
    "    m = AL.shape[1]\n",
    "    Y = Y.reshape(AL.shape)\n",
    "    dAL = - (np.divide(Y, AL) - np.divide(1 - Y, 1 - AL))\n",
    " \n",
    "    current_cache = caches[L - 1]   \n",
    "    grads[\"dA\" + str(L)], grads[\"dW\" + str(L)], grads[\"db\" + str(L)] = linear_activation_backward(dAL, current_cache, \"sigmoid\")\n",
    " \n",
    "    for l in reversed(range(L - 1)):\n",
    "        current_cache = caches[l]\n",
    "        dA_prev_temp, dW_temp, db_temp = linear_activation_backward(grads[\"dA\" + str(l + 2)], current_cache, \"relu\")\n",
    "        grads[\"dA\" + str(l + 1)] = dA_prev_temp\n",
    "        grads[\"dW\" + str(l + 1)] = dW_temp\n",
    "        grads[\"db\" + str(l + 1)] = db_temp\n",
    " \n",
    "    return grads"
   ]
  },
  {
   "cell_type": "code",
   "execution_count": 17,
   "metadata": {},
   "outputs": [],
   "source": [
    "#更新参数\n",
    "def update_parameters(params, grads, learning_rate):\n",
    "    L = len(params) // 2\n",
    "    for l in range(L):\n",
    "        params[\"W\" + str(l + 1)] = params[\"W\" + str(l + 1)] - learning_rate * grads[\"dW\" + str(l + 1)]\n",
    "        params[\"b\" + str(l + 1)] = params[\"b\" + str(l + 1)] - learning_rate * grads[\"db\" + str(l + 1)]\n",
    "    return params"
   ]
  },
  {
   "cell_type": "code",
   "execution_count": 33,
   "metadata": {},
   "outputs": [],
   "source": [
    "#神经网络\n",
    "def L_layer_NN(X, Y, layers_dims, learning_rate, num_iterations, mini_batch):\n",
    "    cost_list = []\n",
    "    params = initialize(layers_dims)   #初始化参数\n",
    "    m = int(X.shape[1] / mini_batch)   #用mini BGD时每一次用到的训练集中样本数量\n",
    "    \n",
    "    #迭代\n",
    "    for i in range(num_iterations):\n",
    "        #mini BGD每次使用一部分训练集\n",
    "        for j in range(mini_batch):\n",
    "            AL, caches = L_model_forward(X[:, m*j: m*(j+1)], params)   #正向传播           \n",
    "            grads = L_model_backward(AL, Y[:, m*j: m*(j+1)], caches)   #反向传播\n",
    "            params = update_parameters(params, grads, learning_rate)   #更新参数\n",
    "        \n",
    "        cost = compute_cost(AL, Y[:, m*j: m*(j+1)])   #计算误差\n",
    "        cost_list = np.append(cost_list, cost)   #将误差存储起来便于画图\n",
    "        #打印误差\n",
    "        if (i == 0):\n",
    "            costs.append(cost)\n",
    "            print (\"最初误差为：%f\" % cost)\n",
    "        if ((i+1) % 100 == 0):\n",
    "            costs.append(cost)\n",
    "            print (\"经过%i次迭代，误差为：%f\" % ((i+1), cost))\n",
    "    #画图\n",
    "    iteration = np.arange(0, num_iterations, 1)\n",
    "    plt.figure(figsize=(4,2.5))\n",
    "    plt.plot(iteration, cost_list)\n",
    "    plt.xlabel('number of iterations')\n",
    "    plt.ylabel('error')  \n",
    "    plt.show()\n",
    " \n",
    "    return params"
   ]
  },
  {
   "cell_type": "code",
   "execution_count": 19,
   "metadata": {},
   "outputs": [],
   "source": [
    "\n",
    "    "
   ]
  },
  {
   "cell_type": "code",
   "execution_count": 37,
   "metadata": {},
   "outputs": [
    {
     "name": "stdout",
     "output_type": "stream",
     "text": [
      "神经网络共5层, 各层节点数分别为：\n",
      "511 20 15 8 1 \n",
      "\n",
      "学习率：0.001\n",
      "每次学习用训练集的1/ 12\n",
      "迭代次数：1000\n",
      "\n",
      "\n",
      "最初误差为：0.689989\n",
      "经过100次迭代，误差为：0.517810\n",
      "经过200次迭代，误差为：0.512901\n",
      "经过300次迭代，误差为：0.508272\n",
      "经过400次迭代，误差为：0.504776\n",
      "经过500次迭代，误差为：0.498708\n",
      "经过600次迭代，误差为：0.494349\n",
      "经过700次迭代，误差为：0.504575\n",
      "经过800次迭代，误差为：0.491927\n",
      "经过900次迭代，误差为：0.488545\n",
      "经过1000次迭代，误差为：0.492639\n"
     ]
    },
    {
     "data": {
      "image/png": "[encoded data removed]",
      "text/plain": [
       "<Figure size 288x180 with 1 Axes>"
      ]
     },
     "metadata": {
      "needs_background": "light"
     },
     "output_type": "display_data"
    },
    {
     "name": "stdout",
     "output_type": "stream",
     "text": [
      "在测试集上的分类正确率为：79.67%\n",
      "程序运行时间： 298.4998526573181\n"
     ]
    },
    {
     "data": {
      "image/png": "[encoded data removed]",
      "text/plain": [
       "<Figure size 288x180 with 1 Axes>"
      ]
     },
     "metadata": {
      "needs_background": "light"
     },
     "output_type": "display_data"
    }
   ],
   "source": [
    "if __name__ == \"__main__\":\n",
    "    #导入数据文件\n",
    "    X = np.loadtxt('features.txt', delimiter=',', skiprows=1, dtype=float)\n",
    "    Y = np.loadtxt('labels.txt', delimiter=',', skiprows=1, usecols=(1))\n",
    "    \n",
    "    X_train, Y_train, X_test, Y_test = split_data(X, Y)   #划分数据集\n",
    "    \n",
    "    #一系列参数\n",
    "    layers_dims = [511, 20, 15, 8, 1]\n",
    "    num_iterations = 1000\n",
    "    learning_rate = 0.001\n",
    "    mini_batch = 12\n",
    "    \n",
    "    print(f\"神经网络共{len(layers_dims)}层, 各层节点数分别为：\")\n",
    "    for i in layers_dims:\n",
    "        print(i, end = ' ')\n",
    "    print(\"\\n\")\n",
    "    print(\"学习率：%s\" % str(learning_rate))\n",
    "    print(\"每次学习用训练集的1/\", str(mini_batch))\n",
    "    print(\"迭代次数：%d\" % num_iterations)\n",
    "    print(\"\\n\")\n",
    "\n",
    "    #训练\n",
    "    params = L_layer_NN(X_train, Y_train, layers_dims, learning_rate, num_iterations, mini_batch)\n",
    "    \n",
    "    #测试\n",
    "    test_num = X_test.shape[1]\n",
    "    AL_test, caches_test = L_model_forward(X_test, params)\n",
    "    AL_test[(AL_test < 0.5) | (AL_test == 0.5)] = 0\n",
    "    AL_test[AL_test > 0.5] = 1\n",
    "    correct = 0\n",
    "    for i in range(test_num):\n",
    "        if (AL_test[0, i] == Y_test[0, i]):\n",
    "            correct += 1 \n",
    "    precision = correct / test_num\n",
    "    print (\"在测试集上的分类正确率为：%.2f%%\" % (precision * 100))"
   ]
  },
  {
   "cell_type": "code",
   "execution_count": null,
   "metadata": {},
   "outputs": [],
   "source": []
  }
 ],
 "metadata": {
  "kernelspec": {
   "display_name": "Python 3",
   "language": "python",
   "name": "python3"
  },
  "language_info": {
   "codemirror_mode": {
    "name": "ipython",
    "version": 3
   },
   "file_extension": ".py",
   "mimetype": "text/x-python",
   "name": "python",
   "nbconvert_exporter": "python",
   "pygments_lexer": "ipython3",
   "version": "3.8.3"
  }
 },
 "nbformat": 4,
 "nbformat_minor": 4
}
